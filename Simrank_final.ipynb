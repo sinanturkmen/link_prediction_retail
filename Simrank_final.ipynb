{
 "cells": [
  {
   "cell_type": "code",
   "execution_count": 1,
   "metadata": {
    "colab": {},
    "colab_type": "code",
    "id": "R10Osvc38wa2"
   },
   "outputs": [],
   "source": [
    "import networkx as nx\n",
    "import matplotlib.pyplot as plt\n",
    "import numpy as np\n",
    "import random\n",
    "import math\n",
    "import itertools\n",
    "import pandas as pd\n",
    "from datetime import datetime"
   ]
  },
  {
   "cell_type": "raw",
   "metadata": {
    "colab": {
     "base_uri": "https://localhost:8080/",
     "height": 128
    },
    "colab_type": "code",
    "id": "zUUkksyj83MK",
    "outputId": "b0168d06-c340-48c1-ca64-784d19ff5c57"
   },
   "source": [
    "from google.colab import drive\n",
    "drive.mount('/content/drive')"
   ]
  },
  {
   "cell_type": "code",
   "execution_count": null,
   "metadata": {
    "colab": {
     "base_uri": "https://localhost:8080/",
     "height": 407
    },
    "colab_type": "code",
    "id": "JQk1eXMI8wbK",
    "outputId": "13ce1540-8fc9-4456-8f51-5643c4a70082"
   },
   "outputs": [],
   "source": [
    "sample=pd.read_csv(\"rec-amazon-ratings.edges\",header=None,delimiter=\" \")\n",
    "sample"
   ]
  },
  {
   "cell_type": "code",
   "execution_count": 3,
   "metadata": {
    "colab": {},
    "colab_type": "code",
    "id": "pVUC7ZyW8wbS"
   },
   "outputs": [],
   "source": [
    "a=sample[sample[2]==5]\n",
    "b=sample[sample[2]==4]\n",
    "sample2=pd.concat([a,b],axis=0)"
   ]
  },
  {
   "cell_type": "code",
   "execution_count": 4,
   "metadata": {
    "colab": {
     "base_uri": "https://localhost:8080/",
     "height": 407
    },
    "colab_type": "code",
    "id": "8r7F0_5M8wbZ",
    "outputId": "622a9b07-ec19-4f2f-88dd-ea0b8a463f5f"
   },
   "outputs": [
    {
     "data": {
      "text/html": [
       "<div>\n",
       "<style scoped>\n",
       "    .dataframe tbody tr th:only-of-type {\n",
       "        vertical-align: middle;\n",
       "    }\n",
       "\n",
       "    .dataframe tbody tr th {\n",
       "        vertical-align: top;\n",
       "    }\n",
       "\n",
       "    .dataframe thead th {\n",
       "        text-align: right;\n",
       "    }\n",
       "</style>\n",
       "<table border=\"1\" class=\"dataframe\">\n",
       "  <thead>\n",
       "    <tr style=\"text-align: right;\">\n",
       "      <th></th>\n",
       "      <th>0</th>\n",
       "      <th>1</th>\n",
       "      <th>2</th>\n",
       "      <th>3</th>\n",
       "    </tr>\n",
       "  </thead>\n",
       "  <tbody>\n",
       "    <tr>\n",
       "      <td>0</td>\n",
       "      <td>1</td>\n",
       "      <td>1</td>\n",
       "      <td>5.0</td>\n",
       "      <td>1117404000</td>\n",
       "    </tr>\n",
       "    <tr>\n",
       "      <td>2</td>\n",
       "      <td>1</td>\n",
       "      <td>3</td>\n",
       "      <td>5.0</td>\n",
       "      <td>1105916400</td>\n",
       "    </tr>\n",
       "    <tr>\n",
       "      <td>5</td>\n",
       "      <td>1</td>\n",
       "      <td>6</td>\n",
       "      <td>5.0</td>\n",
       "      <td>1103497200</td>\n",
       "    </tr>\n",
       "    <tr>\n",
       "      <td>7</td>\n",
       "      <td>1</td>\n",
       "      <td>8</td>\n",
       "      <td>5.0</td>\n",
       "      <td>1074985200</td>\n",
       "    </tr>\n",
       "    <tr>\n",
       "      <td>8</td>\n",
       "      <td>1</td>\n",
       "      <td>9</td>\n",
       "      <td>5.0</td>\n",
       "      <td>1071961200</td>\n",
       "    </tr>\n",
       "    <tr>\n",
       "      <td>...</td>\n",
       "      <td>...</td>\n",
       "      <td>...</td>\n",
       "      <td>...</td>\n",
       "      <td>...</td>\n",
       "    </tr>\n",
       "    <tr>\n",
       "      <td>5838026</td>\n",
       "      <td>2146048</td>\n",
       "      <td>2874</td>\n",
       "      <td>4.0</td>\n",
       "      <td>1124488800</td>\n",
       "    </tr>\n",
       "    <tr>\n",
       "      <td>5838029</td>\n",
       "      <td>2146050</td>\n",
       "      <td>765079</td>\n",
       "      <td>4.0</td>\n",
       "      <td>1128981600</td>\n",
       "    </tr>\n",
       "    <tr>\n",
       "      <td>5838030</td>\n",
       "      <td>2146050</td>\n",
       "      <td>8732</td>\n",
       "      <td>4.0</td>\n",
       "      <td>1125525600</td>\n",
       "    </tr>\n",
       "    <tr>\n",
       "      <td>5838034</td>\n",
       "      <td>2146052</td>\n",
       "      <td>233344</td>\n",
       "      <td>4.0</td>\n",
       "      <td>1125871200</td>\n",
       "    </tr>\n",
       "    <tr>\n",
       "      <td>5838040</td>\n",
       "      <td>2146057</td>\n",
       "      <td>147758</td>\n",
       "      <td>4.0</td>\n",
       "      <td>1123797600</td>\n",
       "    </tr>\n",
       "  </tbody>\n",
       "</table>\n",
       "<p>4530584 rows × 4 columns</p>\n",
       "</div>"
      ],
      "text/plain": [
       "               0       1    2           3\n",
       "0              1       1  5.0  1117404000\n",
       "2              1       3  5.0  1105916400\n",
       "5              1       6  5.0  1103497200\n",
       "7              1       8  5.0  1074985200\n",
       "8              1       9  5.0  1071961200\n",
       "...          ...     ...  ...         ...\n",
       "5838026  2146048    2874  4.0  1124488800\n",
       "5838029  2146050  765079  4.0  1128981600\n",
       "5838030  2146050    8732  4.0  1125525600\n",
       "5838034  2146052  233344  4.0  1125871200\n",
       "5838040  2146057  147758  4.0  1123797600\n",
       "\n",
       "[4530584 rows x 4 columns]"
      ]
     },
     "execution_count": 4,
     "metadata": {},
     "output_type": "execute_result"
    }
   ],
   "source": [
    "sample2"
   ]
  },
  {
   "cell_type": "code",
   "execution_count": 5,
   "metadata": {
    "colab": {
     "base_uri": "https://localhost:8080/",
     "height": 417
    },
    "colab_type": "code",
    "id": "IjWB5bHN8wbg",
    "outputId": "b21f4851-62a2-43ea-984f-971bf58922af"
   },
   "outputs": [
    {
     "name": "stdout",
     "output_type": "stream",
     "text": [
      "0.0/10-->\n",
      "difference = 0:00:00.309171\n",
      "1.0/10-->\n",
      "difference = 0:00:35.021380\n",
      "2.0/10-->\n",
      "difference = 0:00:36.949218\n",
      "3.0/10-->\n",
      "difference = 0:00:35.330557\n",
      "4.0/10-->\n",
      "difference = 0:00:35.331558\n",
      "5.0/10-->\n",
      "difference = 0:00:39.430139\n",
      "6.0/10-->\n",
      "difference = 0:00:44.115052\n",
      "7.0/10-->\n",
      "difference = 0:00:36.187256\n",
      "8.0/10-->\n",
      "difference = 0:00:35.139449\n",
      "9.0/10-->\n",
      "difference = 0:00:42.457496\n",
      "10.0/10-->\n",
      "difference = 0:00:39.056587\n"
     ]
    }
   ],
   "source": [
    "G = nx.Graph()\n",
    "# Add edges and edge attributes\n",
    "temp=0\n",
    "now = datetime.now()\n",
    "current_timea=now \n",
    "for i, elrow in sample2.iterrows():\n",
    "    if (temp%450000==0):\n",
    "        print(temp/450000,\"/10-->\",sep=\"\")\n",
    "        now = datetime.now()\n",
    "        current_timeb=now   \n",
    "        print(\"difference =\", (current_timeb-current_timea))\n",
    "        now = datetime.now()\n",
    "        current_timea=now \n",
    "    temp=temp+1\n",
    "    G.add_edge(elrow[0], elrow[1])"
   ]
  },
  {
   "cell_type": "code",
   "execution_count": 6,
   "metadata": {
    "colab": {
     "base_uri": "https://localhost:8080/",
     "height": 72
    },
    "colab_type": "code",
    "id": "O-kP5ttR8wbq",
    "outputId": "9984e4b1-0128-4416-e9b5-710b7059f76e"
   },
   "outputs": [
    {
     "name": "stdout",
     "output_type": "stream",
     "text": [
      "full_data except rating under 4\n",
      "number of nodes : 1937490\n",
      "number of edges : 4454690\n"
     ]
    }
   ],
   "source": [
    "#G = nx.read_edgelist(\"rec-amazon-ratings.edges\",  create_using=nx.DiGraph,nodetype= int).to_undirected()\n",
    "print(\"full_data except rating under 4\")\n",
    "print (\"number of nodes :\",len(G.nodes))  \n",
    "print (\"number of edges :\",len(G.edges))  "
   ]
  },
  {
   "cell_type": "code",
   "execution_count": 7,
   "metadata": {
    "colab": {
     "base_uri": "https://localhost:8080/",
     "height": 72
    },
    "colab_type": "code",
    "id": "cgKaLmHk8wbx",
    "outputId": "f4d25803-f193-498a-a8cd-8ed101ab57df"
   },
   "outputs": [
    {
     "name": "stdout",
     "output_type": "stream",
     "text": [
      "%10 sample of full_data\n",
      "number of nodes : 193756\n",
      "number of edges : 44422\n"
     ]
    }
   ],
   "source": [
    "G1=G.copy()\n",
    "for i in list(G1.nodes):\n",
    "    check=np.random.randint(10)\n",
    "    if not check==2:\n",
    "        G1.remove_node(i)\n",
    "\n",
    "print(\"%10 sample of full_data\")\n",
    "print (\"number of nodes :\",len(G1.nodes))  \n",
    "print (\"number of edges :\",len(G1.edges))  \n",
    "nx.write_edgelist(G1, \"G1_aftersampling.edgelist\")"
   ]
  },
  {
   "cell_type": "code",
   "execution_count": 9,
   "metadata": {
    "colab": {
     "base_uri": "https://localhost:8080/",
     "height": 72
    },
    "colab_type": "code",
    "id": "P3WpiMWp8wb3",
    "outputId": "53ba8750-420c-4bc1-db06-29177144a623"
   },
   "outputs": [
    {
     "name": "stdout",
     "output_type": "stream",
     "text": [
      "giant component of %10 sample of full_data\n",
      "number of nodes : 190198\n",
      "number of edges : 44206\n"
     ]
    }
   ],
   "source": [
    "Gcc = sorted(nx.connected_components(G), key=len, reverse=True)\n",
    "G2 = G1.subgraph(Gcc[0])\n",
    "\n",
    "print(\"giant component of %10 sample of full_data\")\n",
    "print (\"number of nodes :\",len(G2.nodes))  \n",
    "print (\"number of edges :\",len(G2.edges)) \n",
    "nx.write_edgelist(G2, \"G2_aftergiant.edgelist\") "
   ]
  },
  {
   "cell_type": "code",
   "execution_count": 10,
   "metadata": {
    "colab": {},
    "colab_type": "code",
    "id": "JRiuk4lnCxWz"
   },
   "outputs": [],
   "source": [
    "G2=nx.Graph(G2)"
   ]
  },
  {
   "cell_type": "code",
   "execution_count": 11,
   "metadata": {
    "colab": {
     "base_uri": "https://localhost:8080/",
     "height": 72
    },
    "colab_type": "code",
    "id": "xGrO4bON8wb-",
    "outputId": "e2decb07-4ac8-4d97-a29c-89cce57304aa"
   },
   "outputs": [
    {
     "name": "stdout",
     "output_type": "stream",
     "text": [
      "only degree greater than 3 of giant component of %50 sample of full_data\n",
      "number of nodes : 6054\n",
      "number of edges : 8763\n"
     ]
    }
   ],
   "source": [
    "deg = dict(nx.degree(G2))\n",
    "sorteddeg = sorted(deg.items(), key=lambda x: x[1], reverse=False)\n",
    "small_deg=[]\n",
    "for k, v in sorteddeg:\n",
    "    if v<3:\n",
    "        G2.remove_node(k)\n",
    "print(\"only degree greater than 3 of giant component of %50 sample of full_data\")\n",
    "print (\"number of nodes :\",len(G2.nodes))  \n",
    "print (\"number of edges :\",len(G2.edges))  "
   ]
  },
  {
   "cell_type": "code",
   "execution_count": 12,
   "metadata": {
    "colab": {
     "base_uri": "https://localhost:8080/",
     "height": 72
    },
    "colab_type": "code",
    "id": "FIyhfMux8wcD",
    "outputId": "b4abeb04-c653-49a6-9498-2002a3a81556"
   },
   "outputs": [
    {
     "name": "stdout",
     "output_type": "stream",
     "text": [
      "giant component of only degree greater than 2 of giant component of %50 sample of full_data\n",
      "number of nodes : 5009\n",
      "number of edges : 8627\n"
     ]
    }
   ],
   "source": [
    "Gcc = sorted(nx.connected_components(G2), key=len, reverse=True)\n",
    "G3 = G2.subgraph(Gcc[0])\n",
    "print(\"giant component of only degree greater than 2 of giant component of %50 sample of full_data\")\n",
    "print (\"number of nodes :\",len(G3.nodes))  \n",
    "print (\"number of edges :\",len(G3.edges))  "
   ]
  },
  {
   "cell_type": "markdown",
   "metadata": {},
   "source": [
    "# NO NEED TO DO OPERATIONS BELOW"
   ]
  },
  {
   "cell_type": "code",
   "execution_count": 13,
   "metadata": {
    "colab": {},
    "colab_type": "code",
    "id": "zCGtCqYv8wcM"
   },
   "outputs": [
    {
     "name": "stdout",
     "output_type": "stream",
     "text": [
      "Full data\n",
      "number of nodes : 5225\n",
      "number of edges : 8972\n"
     ]
    }
   ],
   "source": [
    "G3= nx.read_edgelist(\"Full.edgelist\", create_using= nx.DiGraph, nodetype= float).to_undirected()\n",
    "print(\"Full data\")\n",
    "print (\"number of nodes :\",len(G3.nodes))  \n",
    "print (\"number of edges :\",len(G3.edges)) "
   ]
  },
  {
   "cell_type": "code",
   "execution_count": 3,
   "metadata": {},
   "outputs": [
    {
     "name": "stdout",
     "output_type": "stream",
     "text": [
      "Full data\n",
      "number of nodes : 5225\n",
      "number of edges : 8972\n"
     ]
    }
   ],
   "source": [
    "G3= nx.read_edgelist(\"Full.edgelist\", create_using= nx.DiGraph, nodetype= float).to_undirected()\n",
    "print(\"Full data\")\n",
    "print (\"number of nodes :\",len(G3.nodes))  \n",
    "print (\"number of edges :\",len(G3.edges)) "
   ]
  },
  {
   "cell_type": "code",
   "execution_count": 4,
   "metadata": {
    "colab": {},
    "colab_type": "code",
    "id": "2Gk-sSqT8wcT"
   },
   "outputs": [],
   "source": [
    "def train_Test_Graph(Graph,splitsize):\n",
    "    allEdges = []\n",
    "    testEdges = []\n",
    "    for edge in Graph.edges():\n",
    "        pair = edge\n",
    "\n",
    "        # Ensure that tuple (u,v) u < v\n",
    "        if pair[0] > pair[1]:\n",
    "            allEdges.append((pair[1], pair[0]))\n",
    "        else:\n",
    "            allEdges.append((pair[0], pair[1]))\n",
    "\n",
    "    numTest = int(len(allEdges) * splitsize)\n",
    "\n",
    "    # sample 10% current edges\n",
    "    testEdgesInd = np.random.choice(range(len(allEdges)), numTest, replace=False)\n",
    "    Gtest = nx.Graph()  \n",
    "    for ind in testEdgesInd:\n",
    "        pair = allEdges[ind]\n",
    "        testEdges.append(pair)\n",
    "        Graph.remove_edge(pair[0], pair[1])   \n",
    "        #Gtest.add_edge(pair[0], pair[1])\n",
    "    \n",
    "        \n",
    "    #return Gtest\n",
    "    return testEdges"
   ]
  },
  {
   "cell_type": "code",
   "execution_count": 5,
   "metadata": {
    "colab": {
     "base_uri": "https://localhost:8080/",
     "height": 126
    },
    "colab_type": "code",
    "id": "7jydfR3T8wcY",
    "outputId": "2dc1c10c-1c8e-451d-c374-ea3efc2936c0"
   },
   "outputs": [
    {
     "name": "stdout",
     "output_type": "stream",
     "text": [
      "Train data\n",
      "number of nodes : 5225\n",
      "number of edges : 7178\n",
      "\n",
      "Test data\n",
      "number of edges :  1794\n"
     ]
    }
   ],
   "source": [
    "test_split=0.2\n",
    "Gtest=train_Test_Graph(G3,test_split)\n",
    "print(\"Train data\")\n",
    "print (\"number of nodes :\",len(G3.nodes))  \n",
    "print (\"number of edges :\",len(G3.edges)) \n",
    "\n",
    "print(\"\\nTest data\")\n",
    "#print (\"number of nodes :\",len(Gtest.nodes))  \n",
    "#print (\"number of edges :\",len(Gtest.edges)) \n",
    "print(\"number of edges : \",len(list(Gtest)))"
   ]
  },
  {
   "cell_type": "code",
   "execution_count": 6,
   "metadata": {
    "colab": {},
    "colab_type": "code",
    "id": "qS_k_zj-8wcv"
   },
   "outputs": [],
   "source": [
    "def simrank(G, c=0.8, max_iter=10, eps=1e-4):\n",
    "    is_directed = G.is_directed()\n",
    "    if is_directed:\n",
    "        print(\"Directed version is running\")\n",
    "    else:\n",
    "        print(\"Undirected version is running\")\n",
    "\n",
    "    nodes = G.nodes()\n",
    "    nodes_i = {k: v for (k, v) in [(list(nodes)[i], i) for i in range(len(nodes))]}\n",
    "    #print(\"Nodes:\", nodes)\n",
    "    #print(\"Node indices:\", nodes_i)\n",
    "    \n",
    "    sim_prev = np.zeros(len(nodes))\n",
    "    sim = np.identity(len(nodes))\n",
    "    now = datetime.now()\n",
    "    current_timea=now \n",
    "    for i in range(max_iter):\n",
    "        \n",
    "        if np.allclose(sim, sim_prev, atol=eps):\n",
    "            break\n",
    "        sim_prev = np.copy(sim)\n",
    "        # get cross product of the nodes\n",
    "        for u, v in itertools.product(nodes, nodes):\n",
    "            if u is v:\n",
    "                continue\n",
    "            \n",
    "            if is_directed:\n",
    "                # return dict_keyiterator -> has no len()\n",
    "                u_ns, v_ns = list(G.predecessors(u)), list(G.predecessors(v))\n",
    "            else:\n",
    "                u_ns, v_ns = list(G.neighbors(u)), list(G.neighbors(v))\n",
    "\n",
    "            # evaluating the similarity of current iteration nodes pair\n",
    "            if len(u_ns) == 0 or len(v_ns) == 0: \n",
    "                # if a node has no predecessors then setting similarity to zero\n",
    "                sim[nodes_i[u]][nodes_i[v]] = 0\n",
    "            else:\n",
    "                # sum up the similarities of the neighboring nodes (predecessor in directed graphs)\n",
    "                s_uv = sum([sim_prev[nodes_i[u_n]][nodes_i[v_n]] for u_n, v_n in itertools.product(u_ns, v_ns)])\n",
    "                # update similarity of the node pairs\n",
    "                sim[nodes_i[u]][nodes_i[v]] = (c * s_uv) / (len(u_ns) * len(v_ns))\n",
    "        now = datetime.now()\n",
    "        current_timeb=now \n",
    "        print(\"difference =\", (current_timeb-current_timea))\n",
    "        now = datetime.now()\n",
    "        current_timea=now \n",
    "        print(\"iter \",(i+1),\" of \",max_iter,\" completed\")\n",
    "    return sim"
   ]
  },
  {
   "cell_type": "code",
   "execution_count": 7,
   "metadata": {},
   "outputs": [],
   "source": [
    "def adamrank(G, c=0.8, max_iter=10, eps=1e-4):\n",
    "    is_directed = G.is_directed()\n",
    "    if is_directed:\n",
    "        print(\"Directed version is running\")\n",
    "    else:\n",
    "        print(\"Undirected version is running\")\n",
    "\n",
    "    nodes = G.nodes()\n",
    "    nodes_i = {k: v for (k, v) in [(list(nodes)[i], i) for i in range(len(nodes))]}\n",
    "    #print(\"Nodes:\", nodes)\n",
    "    #print(\"Node indices:\", nodes_i)\n",
    "    \n",
    "    sim_prev = np.zeros(len(nodes))\n",
    "    sim = np.identity(len(nodes))\n",
    "    now = datetime.now()\n",
    "    current_timea=now       \n",
    "  \n",
    "    for u, v in itertools.product(nodes, nodes):\n",
    "        if u is v:\n",
    "            continue\n",
    "            \n",
    "            \n",
    "                \n",
    "        preds= nx.adamic_adar_index(G, [(u,v)]) \n",
    "        u,v,p=next(preds)\n",
    "        aa = p\n",
    "            \n",
    "        sim[nodes_i[u]][nodes_i[v]] = aa\n",
    "            \n",
    "        now = datetime.now()\n",
    "        current_timeb=now \n",
    "        #print(\"difference =\", (current_timeb-current_timea))\n",
    "        now = datetime.now()\n",
    "        current_timea=now \n",
    "        #print(\"iter \",(i+1),\" of \",max_iter,\" completed\")\n",
    "    return sim"
   ]
  },
  {
   "cell_type": "code",
   "execution_count": 8,
   "metadata": {},
   "outputs": [],
   "source": [
    "def prefrank(G, c=0.8, max_iter=10, eps=1e-4):\n",
    "    is_directed = G.is_directed()\n",
    "    if is_directed:\n",
    "        print(\"Directed version is running\")\n",
    "    else:\n",
    "        print(\"Undirected version is running\")\n",
    "\n",
    "    nodes = G.nodes()\n",
    "    nodes_i = {k: v for (k, v) in [(list(nodes)[i], i) for i in range(len(nodes))]}\n",
    "    #print(\"Nodes:\", nodes)\n",
    "    #print(\"Node indices:\", nodes_i)\n",
    "    \n",
    "    sim_prev = np.zeros(len(nodes))\n",
    "    sim = np.identity(len(nodes))\n",
    "    now = datetime.now()\n",
    "    current_timea=now       \n",
    "  \n",
    "    for u, v in itertools.product(nodes, nodes):\n",
    "        if u is v:\n",
    "            continue\n",
    "            \n",
    "            \n",
    "                \n",
    "        preds= nx.preferential_attachment(G, [(u,v)]) \n",
    "        u,v,p=next(preds)\n",
    "        aa = p\n",
    "            \n",
    "        sim[nodes_i[u]][nodes_i[v]] = aa\n",
    "            \n",
    "        now = datetime.now()\n",
    "        current_timeb=now \n",
    "        #print(\"difference =\", (current_timeb-current_timea))\n",
    "        now = datetime.now()\n",
    "        current_timea=now \n",
    "        #print(\"iter \",(i+1),\" of \",max_iter,\" completed\")\n",
    "    return sim"
   ]
  },
  {
   "cell_type": "code",
   "execution_count": 12,
   "metadata": {},
   "outputs": [],
   "source": [
    "def jacrank(G, c=0.8, max_iter=10, eps=1e-4):\n",
    "    is_directed = G.is_directed()\n",
    "    if is_directed:\n",
    "        print(\"Directed version is running\")\n",
    "    else:\n",
    "        print(\"Undirected version is running\")\n",
    "\n",
    "    nodes = G.nodes()\n",
    "    nodes_i = {k: v for (k, v) in [(list(nodes)[i], i) for i in range(len(nodes))]}\n",
    "    #print(\"Nodes:\", nodes)\n",
    "    #print(\"Node indices:\", nodes_i)\n",
    "    \n",
    "    sim_prev = np.zeros(len(nodes))\n",
    "    sim = np.identity(len(nodes))\n",
    "    now = datetime.now()\n",
    "    current_timea=now       \n",
    "  \n",
    "    for u, v in itertools.product(nodes, nodes):\n",
    "        if u is v:\n",
    "            continue\n",
    "            \n",
    "            \n",
    "                \n",
    "        preds= nx.jaccard_coefficient(G, [(u,v)]) \n",
    "        u,v,p=next(preds)\n",
    "        aa = p\n",
    "            \n",
    "        sim[nodes_i[u]][nodes_i[v]] = aa\n",
    "            \n",
    "        now = datetime.now()\n",
    "        current_timeb=now \n",
    "        #print(\"difference =\", (current_timeb-current_timea))\n",
    "        now = datetime.now()\n",
    "        current_timea=now \n",
    "        #print(\"iter \",(i+1),\" of \",max_iter,\" completed\")\n",
    "    return sim"
   ]
  },
  {
   "cell_type": "code",
   "execution_count": null,
   "metadata": {},
   "outputs": [],
   "source": [
    "simscores = simrank(G3)\n",
    "print(\"simscores has been found\")\n",
    "nodes = G3.nodes()\n",
    "nodes_i = {k: v for (k, v) in [(list(nodes)[i], i) for i in range(len(nodes))]}"
   ]
  },
  {
   "cell_type": "code",
   "execution_count": null,
   "metadata": {},
   "outputs": [],
   "source": [
    "thresholds=[0.75,0.5,0.25,0.1,0.05,0.01,0.005,0.001,0.0005]\n",
    "var=simscores.shape[0]*simscores.shape[1]\n",
    "precisions=[]\n",
    "recalls=[]\n",
    "accuracies=[]\n",
    "now = datetime.now()\n",
    "current_timea=now \n",
    "for threshold in thresholds:\n",
    "    preds=[]\n",
    "  \n",
    "    #threshold=0.0001\n",
    "    print(\"predictions for threshold \",str(threshold))\n",
    "    for i in list(G3.nodes):\n",
    "        for j in list(G3.nodes):\n",
    "            if simscores[nodes_i[i],nodes_i[j]]>threshold:\n",
    "                preds.append([i,j])\n",
    "\n",
    "    print(\"predictions has been found\")           \n",
    "    temp=0\n",
    "    for i in preds:\n",
    "        for j in Gtest:\n",
    "            if i[0]==j[0] and i[1]==j[1]:\n",
    "              #print(i,\",\",j)\n",
    "                temp=temp+1\n",
    "\n",
    "    print(\"threshold : \",threshold,\" completed\")\n",
    "    prec=temp/len(preds)\n",
    "    print(\"precision : \",prec)\n",
    "    precisions.append(prec)\n",
    "    reca=temp/len(Gtest)\n",
    "    print(\"recall : \",reca)\n",
    "    recalls.append(reca)\n",
    "    accur=(var-len(preds)+temp)/(var+len(Gtest)-temp)\n",
    "    print(\"accuracy : \",accur)\n",
    "    accuracies.append(accur)\n",
    "    now = datetime.now()\n",
    "    current_timeb=now \n",
    "    print(\"difference =\", (current_timeb-current_timea))\n",
    "    now = datetime.now()\n",
    "    current_timea=now \n",
    "\n",
    "plt.plot(thresholds,precisions,label=\"precision\")\n",
    "plt.plot(thresholds,recalls,label=\"recalls\")\n",
    "plt.plot(thresholds,accuracies,label=\"accuracies\")\n",
    "plt.title(\"Precision-Recall-Accuracy vs Simrank thresholds\")\n",
    "plt.xlabel(\"Thresholds\")\n",
    "plt.ylabel(\"Precision-Recall-Accuracy Values\")\n",
    "plt.legend()\n",
    "plt.show()\n",
    "pd.DataFrame({'threshold':thresholds,'precisions':precisions,\"recalls\":recalls,\"accuracies\":accuracies}).to_csv('Simrank.csv',index=False,sep=\",\")"
   ]
  },
  {
   "cell_type": "code",
   "execution_count": 19,
   "metadata": {},
   "outputs": [
    {
     "data": {
      "image/png": "[encoded data removed]",
      "text/plain": [
       "<Figure size 432x288 with 1 Axes>"
      ]
     },
     "metadata": {
      "needs_background": "light"
     },
     "output_type": "display_data"
    }
   ],
   "source": [
    "thresholds=[0.75,0.5,0.25,0.1,0.05,0.01,0.005]\n",
    "plt.plot(thresholds,precisions,label=\"precision\")\n",
    "plt.plot(thresholds,recalls,label=\"recalls\")\n",
    "plt.plot(thresholds,accuracies,label=\"accuracies\")\n",
    "plt.title(\"Precision-Recall-Accuracy vs Simrank thresholds\")\n",
    "plt.xlabel(\"Thresholds\")\n",
    "plt.ylabel(\"Precision-Recall-Accuracy Values\")\n",
    "plt.legend()\n",
    "plt.show()\n",
    "pd.DataFrame({'threshold':thresholds,'precisions':precisions,\"recalls\":recalls,\"accuracies\":accuracies}).to_csv('Simrank.csv',index=False,sep=\",\")"
   ]
  },
  {
   "cell_type": "code",
   "execution_count": null,
   "metadata": {},
   "outputs": [],
   "source": [
    "simscores = prefrank(G3)\n",
    "print(\"simscores has been found\")\n",
    "nodes = G3.nodes()\n",
    "nodes_i = {k: v for (k, v) in [(list(nodes)[i], i) for i in range(len(nodes))]}"
   ]
  },
  {
   "cell_type": "code",
   "execution_count": 36,
   "metadata": {},
   "outputs": [],
   "source": [
    "simscores2=simscores/np.max(simscores)\n",
    "np.max(simscores2)"
   ]
  },
  {
   "cell_type": "code",
   "execution_count": 38,
   "metadata": {},
   "outputs": [
    {
     "name": "stdout",
     "output_type": "stream",
     "text": [
      "predictions for threshold  0.75\n",
      "predictions has been found\n",
      "threshold :  0.75  completed\n",
      "precision :  0.0\n",
      "recall :  0.0\n",
      "accuracy :  0.9999341450294202\n",
      "difference = 0:00:15.303095\n",
      "predictions for threshold  0.5\n",
      "predictions has been found\n",
      "threshold :  0.5  completed\n",
      "precision :  0.0\n",
      "recall :  0.0\n",
      "accuracy :  0.9999338520150907\n",
      "difference = 0:00:14.186083\n",
      "predictions for threshold  0.25\n",
      "predictions has been found\n",
      "threshold :  0.25  completed\n",
      "precision :  0.0\n",
      "recall :  0.0\n",
      "accuracy :  0.999931727661201\n",
      "difference = 0:00:13.654541\n",
      "predictions for threshold  0.1\n",
      "predictions has been found\n",
      "threshold :  0.1  completed\n",
      "precision :  0.010736196319018405\n",
      "recall :  0.0039018952062430325\n",
      "accuracy :  0.9999109236209607\n",
      "difference = 0:00:15.269152\n",
      "predictions for threshold  0.05\n",
      "predictions has been found\n",
      "threshold :  0.05  completed\n",
      "precision :  0.005852231163130944\n",
      "recall :  0.008918617614269788\n",
      "accuracy :  0.9998353258502557\n",
      "difference = 0:00:16.249803\n",
      "predictions for threshold  0.01\n",
      "predictions has been found\n",
      "threshold :  0.01  completed\n",
      "precision :  0.0015179625569235959\n",
      "recall :  0.06020066889632107\n",
      "accuracy :  0.9973362694462018\n",
      "difference = 0:00:35.252768\n",
      "predictions for threshold  0.005\n",
      "predictions has been found\n",
      "threshold :  0.005  completed\n",
      "precision :  0.000834731724108257\n",
      "recall :  0.10813823857302118\n",
      "accuracy :  0.9914360093362354\n",
      "difference = 0:01:04.612307\n"
     ]
    },
    {
     "data": {
      "image/png": "[encoded data removed]",
      "text/plain": [
       "<Figure size 432x288 with 1 Axes>"
      ]
     },
     "metadata": {
      "needs_background": "light"
     },
     "output_type": "display_data"
    }
   ],
   "source": [
    "var=simscores2.shape[0]*simscores2.shape[1]\n",
    "thresholds=[0.75,0.5,0.25,0.1,0.05,0.01,0.005]\n",
    "precisions=[]\n",
    "recalls=[]\n",
    "accuracies=[]\n",
    "now = datetime.now()\n",
    "current_timea=now \n",
    "for threshold in thresholds:\n",
    "    preds=[]\n",
    "  \n",
    "    #threshold=0.0001\n",
    "    print(\"predictions for threshold \",str(threshold))\n",
    "    for i in list(G3.nodes):\n",
    "        for j in list(G3.nodes):\n",
    "            if simscores2[nodes_i[i],nodes_i[j]]>threshold:\n",
    "                preds.append([i,j])\n",
    "\n",
    "    print(\"predictions has been found\")           \n",
    "    temp=0\n",
    "    for i in preds:\n",
    "        for j in Gtest:\n",
    "            if i[0]==j[0] and i[1]==j[1]:\n",
    "              #print(i,\",\",j)\n",
    "                temp=temp+1\n",
    "\n",
    "    print(\"threshold : \",threshold,\" completed\")\n",
    "    prec=temp/len(preds)\n",
    "    print(\"precision : \",prec)\n",
    "    precisions.append(prec)\n",
    "    reca=temp/len(Gtest)\n",
    "    print(\"recall : \",reca)\n",
    "    recalls.append(reca)\n",
    "    accur=(var-len(preds)+temp)/(var+len(Gtest)-temp)\n",
    "    print(\"accuracy : \",accur)\n",
    "    accuracies.append(accur)\n",
    "    now = datetime.now()\n",
    "    current_timeb=now \n",
    "    print(\"difference =\", (current_timeb-current_timea))\n",
    "    now = datetime.now()\n",
    "    current_timea=now \n",
    "    \n",
    "plt.plot(thresholds,precisions,label=\"precision\")\n",
    "plt.plot(thresholds,recalls,label=\"recalls\")\n",
    "plt.plot(thresholds,accuracies,label=\"accuracies\")\n",
    "plt.title(\"Precision-Recall-Accuracy vs Preferential Attachment thresholds\")\n",
    "plt.xlabel(\"Thresholds\")\n",
    "plt.ylabel(\"Precision-Recall-Accuracy Values\")\n",
    "plt.legend()\n",
    "plt.show()\n",
    "pd.DataFrame({'threshold':thresholds,'precisions':precisions,\"recalls\":recalls,\"accuracies\":accuracies}).to_csv('Preferential_Attachment.csv',index=False,sep=\",\")"
   ]
  },
  {
   "cell_type": "code",
   "execution_count": 39,
   "metadata": {},
   "outputs": [
    {
     "name": "stdout",
     "output_type": "stream",
     "text": [
      "Undirected version is running\n",
      "simscores has been found\n",
      "predictions for threshold  0.75\n",
      "predictions has been found\n",
      "threshold :  0.75  completed\n",
      "precision :  0.0001352265043948614\n",
      "recall :  0.0005574136008918618\n",
      "accuracy :  0.9996635096569102\n",
      "difference = 0:00:15.326033\n",
      "predictions for threshold  0.5\n",
      "predictions has been found\n",
      "threshold :  0.5  completed\n",
      "precision :  0.00013363624214887077\n",
      "recall :  0.0005574136008918618\n",
      "accuracy :  0.9996602864991665\n",
      "difference = 0:00:15.139535\n",
      "predictions for threshold  0.25\n",
      "predictions has been found\n",
      "threshold :  0.25  completed\n",
      "precision :  7.130378979642769e-05\n",
      "recall :  0.0011148272017837235\n",
      "accuracy :  0.9989070930972888\n",
      "difference = 0:00:19.620556\n",
      "predictions for threshold  0.1\n",
      "predictions has been found\n",
      "threshold :  0.1  completed\n",
      "precision :  4.630755160397782e-05\n",
      "recall :  0.002229654403567447\n",
      "accuracy :  0.9967707984806472\n",
      "difference = 0:00:31.435970\n",
      "predictions for threshold  0.05\n",
      "predictions has been found\n",
      "threshold :  0.05  completed\n",
      "precision :  5.2560115632254394e-05\n",
      "recall :  0.0033444816053511705\n",
      "accuracy :  0.995753598775317\n",
      "difference = 0:00:36.324906\n",
      "predictions for threshold  0.01\n",
      "predictions has been found\n",
      "threshold :  0.01  completed\n",
      "precision :  0.00010298905939299833\n",
      "recall :  0.007246376811594203\n",
      "accuracy :  0.9953119516279993\n",
      "difference = 0:00:40.019033\n",
      "predictions for threshold  0.005\n",
      "predictions has been found\n",
      "threshold :  0.005  completed\n",
      "precision :  0.00013394158571079648\n",
      "recall :  0.00947603121516165\n",
      "accuracy :  0.9952868249467575\n",
      "difference = 0:00:41.175943\n"
     ]
    },
    {
     "data": {
      "image/png": "[encoded data removed]",
      "text/plain": [
       "<Figure size 432x288 with 1 Axes>"
      ]
     },
     "metadata": {
      "needs_background": "light"
     },
     "output_type": "display_data"
    }
   ],
   "source": [
    "simscores = jacrank(G3)\n",
    "print(\"simscores has been found\")\n",
    "nodes = G3.nodes()\n",
    "nodes_i = {k: v for (k, v) in [(list(nodes)[i], i) for i in range(len(nodes))]}\n",
    "\n",
    "simscores2=simscores/np.max(simscores)\n",
    "np.max(simscores2)\n",
    "\n",
    "var=simscores2.shape[0]*simscores2.shape[1]\n",
    "thresholds=[0.75,0.5,0.25,0.1,0.05,0.01,0.005]\n",
    "precisions=[]\n",
    "recalls=[]\n",
    "accuracies=[]\n",
    "now = datetime.now()\n",
    "current_timea=now \n",
    "for threshold in thresholds:\n",
    "    preds=[]\n",
    "  \n",
    "    #threshold=0.0001\n",
    "    print(\"predictions for threshold \",str(threshold))\n",
    "    for i in list(G3.nodes):\n",
    "        for j in list(G3.nodes):\n",
    "            if simscores2[nodes_i[i],nodes_i[j]]>threshold:\n",
    "                preds.append([i,j])\n",
    "\n",
    "    print(\"predictions has been found\")           \n",
    "    temp=0\n",
    "    for i in preds:\n",
    "        for j in Gtest:\n",
    "            if i[0]==j[0] and i[1]==j[1]:\n",
    "              #print(i,\",\",j)\n",
    "                temp=temp+1\n",
    "\n",
    "    print(\"threshold : \",threshold,\" completed\")\n",
    "    prec=temp/len(preds)\n",
    "    print(\"precision : \",prec)\n",
    "    precisions.append(prec)\n",
    "    reca=temp/len(Gtest)\n",
    "    print(\"recall : \",reca)\n",
    "    recalls.append(reca)\n",
    "    accur=(var-len(preds)+temp)/(var+len(Gtest)-temp)\n",
    "    print(\"accuracy : \",accur)\n",
    "    accuracies.append(accur)\n",
    "    now = datetime.now()\n",
    "    current_timeb=now \n",
    "    print(\"difference =\", (current_timeb-current_timea))\n",
    "    now = datetime.now()\n",
    "    current_timea=now \n",
    "    \n",
    "plt.plot(thresholds,precisions,label=\"precision\")\n",
    "plt.plot(thresholds,recalls,label=\"recalls\")\n",
    "plt.plot(thresholds,accuracies,label=\"accuracies\")\n",
    "plt.title(\"Precision-Recall-Accuracy vs Jaccard thresholds\")\n",
    "plt.xlabel(\"Thresholds\")\n",
    "plt.ylabel(\"Precision-Recall-Accuracy Values\")\n",
    "plt.legend()\n",
    "plt.show()\n",
    "pd.DataFrame({'threshold':thresholds,'precisions':precisions,\"recalls\":recalls,\"accuracies\":accuracies}).to_csv('Jaccard.csv',index=False,sep=\",\")"
   ]
  },
  {
   "cell_type": "code",
   "execution_count": 40,
   "metadata": {},
   "outputs": [
    {
     "name": "stdout",
     "output_type": "stream",
     "text": [
      "Undirected version is running\n",
      "simscores has been found\n",
      "predictions for threshold  0.75\n",
      "predictions has been found\n",
      "threshold :  0.75  completed\n",
      "precision :  0.0\n",
      "recall :  0.0\n",
      "accuracy :  0.9999339985222555\n",
      "difference = 0:00:30.288563\n",
      "predictions for threshold  0.5\n",
      "predictions has been found\n",
      "threshold :  0.5  completed\n",
      "precision :  0.0\n",
      "recall :  0.0\n",
      "accuracy :  0.9999339252686731\n",
      "difference = 0:00:29.352508\n",
      "predictions for threshold  0.25\n",
      "predictions has been found\n",
      "threshold :  0.25  completed\n",
      "precision :  0.0\n",
      "recall :  0.0\n",
      "accuracy :  0.999930995125377\n",
      "difference = 0:00:30.199889\n",
      "predictions for threshold  0.1\n",
      "predictions has been found\n",
      "threshold :  0.1  completed\n",
      "precision :  0.0002247443532981234\n",
      "recall :  0.0011148272017837235\n",
      "accuracy :  0.9996084962001716\n",
      "difference = 0:00:33.689530\n",
      "predictions for threshold  0.05\n",
      "predictions has been found\n",
      "threshold :  0.05  completed\n",
      "precision :  0.00018722501326177176\n",
      "recall :  0.0033444816053511705\n",
      "accuracy :  0.9987609520081613\n",
      "difference = 0:00:48.430714\n",
      "predictions for threshold  0.01\n",
      "predictions has been found\n",
      "threshold :  0.01  completed\n",
      "precision :  0.00013393525412244833\n",
      "recall :  0.00947603121516165\n",
      "accuracy :  0.9952866051858734\n",
      "difference = 0:01:26.499337\n",
      "predictions for threshold  0.005\n",
      "predictions has been found\n",
      "threshold :  0.005  completed\n",
      "precision :  0.00013393525412244833\n",
      "recall :  0.00947603121516165\n",
      "accuracy :  0.9952866051858734\n",
      "difference = 0:01:23.386749\n"
     ]
    },
    {
     "data": {
      "image/png": "[encoded data removed]",
      "text/plain": [
       "<Figure size 432x288 with 1 Axes>"
      ]
     },
     "metadata": {
      "needs_background": "light"
     },
     "output_type": "display_data"
    }
   ],
   "source": [
    "simscores = adamrank(G3)\n",
    "print(\"simscores has been found\")\n",
    "nodes = G3.nodes()\n",
    "nodes_i = {k: v for (k, v) in [(list(nodes)[i], i) for i in range(len(nodes))]}\n",
    "simscores2=simscores/np.max(simscores)\n",
    "\n",
    "var=simscores2.shape[0]*simscores2.shape[1]\n",
    "thresholds=[0.75,0.5,0.25,0.1,0.05,0.01,0.005]\n",
    "precisions=[]\n",
    "recalls=[]\n",
    "accuracies=[]\n",
    "now = datetime.now()\n",
    "current_timea=now \n",
    "for threshold in thresholds:\n",
    "    preds=[]\n",
    "  \n",
    "    #threshold=0.0001\n",
    "    print(\"predictions for threshold \",str(threshold))\n",
    "    for i in list(G3.nodes):\n",
    "        for j in list(G3.nodes):\n",
    "            if simscores2[nodes_i[i],nodes_i[j]]>threshold:\n",
    "                preds.append([i,j])\n",
    "\n",
    "    print(\"predictions has been found\")           \n",
    "    temp=0\n",
    "    for i in preds:\n",
    "        for j in Gtest:\n",
    "            if i[0]==j[0] and i[1]==j[1]:\n",
    "              #print(i,\",\",j)\n",
    "                temp=temp+1\n",
    "\n",
    "    print(\"threshold : \",threshold,\" completed\")\n",
    "    prec=temp/len(preds)\n",
    "    print(\"precision : \",prec)\n",
    "    precisions.append(prec)\n",
    "    reca=temp/len(Gtest)\n",
    "    print(\"recall : \",reca)\n",
    "    recalls.append(reca)\n",
    "    accur=(var-len(preds)+temp)/(var+len(Gtest)-temp)\n",
    "    print(\"accuracy : \",accur)\n",
    "    accuracies.append(accur)\n",
    "    now = datetime.now()\n",
    "    current_timeb=now \n",
    "    print(\"difference =\", (current_timeb-current_timea))\n",
    "    now = datetime.now()\n",
    "    current_timea=now \n",
    "\n",
    "plt.plot(thresholds,precisions,label=\"precision\")\n",
    "plt.plot(thresholds,recalls,label=\"recalls\")\n",
    "plt.plot(thresholds,accuracies,label=\"accuracies\")\n",
    "plt.title(\"Precision-Recall-Accuracy vs Adamic_Adar thresholds\")\n",
    "plt.xlabel(\"Thresholds\")\n",
    "plt.ylabel(\"Precision-Recall-Accuracy Values\")\n",
    "plt.legend()\n",
    "plt.show()\n",
    "pd.DataFrame({'threshold':thresholds,'precisions':precisions,\"recalls\":recalls,\"accuracies\":accuracies}).to_csv('Adamic_Adar.csv',index=False,sep=\",\")"
   ]
  },
  {
   "cell_type": "code",
   "execution_count": null,
   "metadata": {},
   "outputs": [],
   "source": [
    "print(\"completed\")"
   ]
  },
  {
   "cell_type": "code",
   "execution_count": null,
   "metadata": {},
   "outputs": [],
   "source": []
  },
  {
   "cell_type": "code",
   "execution_count": null,
   "metadata": {},
   "outputs": [],
   "source": []
  },
  {
   "cell_type": "code",
   "execution_count": null,
   "metadata": {},
   "outputs": [],
   "source": []
  },
  {
   "cell_type": "code",
   "execution_count": null,
   "metadata": {
    "colab": {},
    "colab_type": "code",
    "id": "MoMTJcNcBLln"
   },
   "outputs": [],
   "source": []
  }
 ],
 "metadata": {
  "accelerator": "GPU",
  "colab": {
   "collapsed_sections": [],
   "name": "Simrank.ipynb",
   "provenance": []
  },
  "kernelspec": {
   "display_name": "Python 3",
   "language": "python",
   "name": "python3"
  },
  "language_info": {
   "codemirror_mode": {
    "name": "ipython",
    "version": 3
   },
   "file_extension": ".py",
   "mimetype": "text/x-python",
   "name": "python",
   "nbconvert_exporter": "python",
   "pygments_lexer": "ipython3",
   "version": "3.7.4"
  }
 },
 "nbformat": 4,
 "nbformat_minor": 1
}
